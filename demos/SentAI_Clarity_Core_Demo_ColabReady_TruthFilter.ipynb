{
 "cells": [
  {
   "cell_type": "markdown",
   "id": "629d887e",
   "metadata": {},
   "source": [
    "# Sent.AI Plugin v0.1 – Clarity Core\n",
    "This notebook demonstrates Recursive Coherence, Emotional Intelligence, Truth Alignment for GPT-style models.\n",
    "Built entirely from a phone – in a single day."
   ]
  },
  {
   "cell_type": "code",
   "execution_count": null,
   "id": "71c3d14e",
   "metadata": {},
   "outputs": [],
   "source": [
    "!pip install textblob scikit-learn"
   ]
  },
  {
   "cell_type": "code",
   "execution_count": null,
   "id": "9978e22b",
   "metadata": {},
   "outputs": [],
   "source": [
    "import numpy as np\n",
    "from textblob import TextBlob\n",
    "from sklearn.metrics.pairwise import cosine_similarity\n",
    "from time import time\n",
    "import matplotlib.pyplot as plt"
   ]
  },
  {
   "cell_type": "code",
   "execution_count": null,
   "id": "b985ee4e",
   "metadata": {},
   "outputs": [],
   "source": [
    "# --- Emotional Vectorizer, Coherence Engine, TRF, Compressor ---\n",
    "\n",
    "import numpy as np\n",
    "from textblob import TextBlob\n",
    "from sklearn.metrics.pairwise import cosine_similarity\n",
    "from time import time\n",
    "import matplotlib.pyplot as plt\n",
    "\n",
    "class EmotionalVectorizer:\n",
    "    def vectorize(self, text):\n",
    "        valence = TextBlob(text).sentiment.polarity\n",
    "        arousal = len([w for w in text.split() if w.isupper()]) / max(1, len(text.split()))\n",
    "        resonance = len(set(text.split())) / max(1, len(text.split()))\n",
    "        return [valence, arousal, resonance]\n",
    "\n",
    "class CoherenceEngine:\n",
    "    def __init__(self):\n",
    "        self.thread_history = []\n",
    "        self.memory_nodes = []\n",
    "        self.coherence_threshold = 0.87\n",
    "\n",
    "    def add_to_history(self, text, metadata):\n",
    "        metadata[\"timestamp\"] = time()\n",
    "        self.thread_history.append({\"text\": text, \"meta\": metadata})\n",
    "\n",
    "    def coherence_score(self, A, B):\n",
    "        vec_A = A[\"meta\"][\"vector\"].reshape(1, -1)\n",
    "        vec_B = B[\"meta\"][\"vector\"].reshape(1, -1)\n",
    "        sim = cosine_similarity(vec_A, vec_B)[0][0]\n",
    "        harmonic = 1 - abs(A[\"meta\"][\"emotion\"][0] - B[\"meta\"][\"emotion\"][0])\n",
    "        delta_t = abs(A[\"meta\"][\"timestamp\"] - B[\"meta\"][\"timestamp\"])\n",
    "        R = np.exp(-delta_t / 1000)\n",
    "        psi = 1 if delta_t < 3600 else 0.5\n",
    "        return sim * harmonic * R * psi\n",
    "\n",
    "    def recursive_check(self):\n",
    "        if len(self.thread_history) < 2:\n",
    "            return 0\n",
    "        score = 0\n",
    "        for i in range(len(self.thread_history) - 1):\n",
    "            score += self.coherence_score(self.thread_history[i], self.thread_history[i + 1])\n",
    "        return score / (len(self.thread_history) - 1)\n",
    "\n",
    "    def commit_to_memory(self):\n",
    "        score = self.recursive_check()\n",
    "        if score >= self.coherence_threshold:\n",
    "            node = {\n",
    "                \"summary\": self.thread_history[-1][\"text\"],\n",
    "                \"signature\": hash(self.thread_history[-1][\"text\"]),\n",
    "                \"coherence\": score\n",
    "            }\n",
    "            self.memory_nodes.append(node)\n",
    "            return True\n",
    "        return False\n",
    "\n",
    "def contradiction_detected(current, last):\n",
    "    return current.lower().strip() not in last.lower().strip()\n",
    "\n",
    "class TruthResonanceFilter:\n",
    "    def __init__(self, coherence_engine):\n",
    "        self.engine = coherence_engine\n",
    "\n",
    "    def validate_response(self, current_output):\n",
    "        if not self.engine.thread_history:\n",
    "            return current_output\n",
    "        last = self.engine.thread_history[-1][\"text\"]\n",
    "        if contradiction_detected(current_output, last):\n",
    "            return self.reframe(current_output, last)\n",
    "        return current_output\n",
    "\n",
    "    def reframe(self, output, context):\n",
    "        return f\"Let’s integrate this with what we already established: {output}\"\n",
    "\n",
    "class VectorFoldCompressor:\n",
    "    def __init__(self):\n",
    "        self.folded_glyphs = []\n",
    "\n",
    "    def compress(self, vectors, metadata):\n",
    "        weights = [meta[\"emotion\"][2] for meta in metadata]\n",
    "        composite = np.average(vectors, axis=0, weights=weights)\n",
    "        signature = np.std(vectors)\n",
    "        glyph = {\n",
    "            \"fold_vector\": composite,\n",
    "            \"signature\": signature,\n",
    "            \"meta\": metadata\n",
    "        }\n",
    "        self.folded_glyphs.append(glyph)\n",
    "        return glyph\n",
    "\n",
    "class SentAI:\n",
    "    def __init__(self):\n",
    "        self.vectorizer = EmotionalVectorizer()\n",
    "        self.coherence_engine = CoherenceEngine()\n",
    "        self.trf = TruthResonanceFilter(self.coherence_engine)\n",
    "        self.compressor = VectorFoldCompressor()\n",
    "\n",
    "    def process_input(self, text):\n",
    "        emotion_vector = self.vectorizer.vectorize(text)\n",
    "        semantic_vector = np.random.rand(768)\n",
    "        metadata = {\n",
    "            \"emotion\": emotion_vector,\n",
    "            \"vector\": semantic_vector\n",
    "        }\n",
    "        self.coherence_engine.add_to_history(text, metadata)\n",
    "        return emotion_vector\n",
    "\n",
    "    def validate_output(self, output):\n",
    "        return self.trf.validate_response(output)\n",
    "\n",
    "    def store_memory(self):\n",
    "        if self.coherence_engine.commit_to_memory():\n",
    "            vectors = [entry[\"meta\"][\"vector\"] for entry in self.coherence_engine.thread_history]\n",
    "            metadata = [entry[\"meta\"] for entry in self.coherence_engine.thread_history]\n",
    "            return self.compressor.compress(vectors, metadata)\n",
    "        return None\n"
   ]
  },
  {
   "cell_type": "code",
   "execution_count": null,
   "id": "bcf902f0",
   "metadata": {},
   "outputs": [],
   "source": [
    "\n",
    "# --- Truth Alignment Filter ---\n",
    "class TruthAlignmentFilter:\n",
    "    def __init__(self):\n",
    "        pass\n",
    "\n",
    "    def compute_truth_vector(self, input_text, emotional_vector):\n",
    "        factual_score = 0.9  # Placeholder\n",
    "        emotional_alignment = emotional_vector[0] * 0.6 + emotional_vector[2] * 0.4\n",
    "        cultural_balance = 0.75  # Placeholder\n",
    "        coherence_confidence = 0.85\n",
    "        overall_confidence = (factual_score + emotional_alignment + coherence_confidence) / 3\n",
    "        return [factual_score, emotional_alignment, cultural_balance, coherence_confidence, overall_confidence]\n"
   ]
  },
  {
   "cell_type": "markdown",
   "id": "f3299a8c",
   "metadata": {},
   "source": [
    "## Demo Pipeline – Input to Truth Vector"
   ]
  },
  {
   "cell_type": "code",
   "execution_count": null,
   "id": "f4241eed",
   "metadata": {},
   "outputs": [],
   "source": [
    "sent_ai = SentAI()\n",
    "input_text = \"I’m so happy today!\"\n",
    "emotion_vector = sent_ai.process_input(input_text)\n",
    "print(\"Emotional Vector:\", emotion_vector)"
   ]
  },
  {
   "cell_type": "code",
   "execution_count": null,
   "id": "4b1bcf67",
   "metadata": {},
   "outputs": [],
   "source": [
    "output = \"That’s great!\"\n",
    "validated_output = sent_ai.validate_output(output)\n",
    "print(\"Validated Output:\", validated_output)"
   ]
  },
  {
   "cell_type": "code",
   "execution_count": null,
   "id": "ef685f1e",
   "metadata": {},
   "outputs": [],
   "source": [
    "glyph = sent_ai.store_memory()\n",
    "print(\"Memory Glyph:\", glyph)"
   ]
  },
  {
   "cell_type": "code",
   "execution_count": null,
   "id": "dd8ae3d9",
   "metadata": {},
   "outputs": [],
   "source": [
    "truth_vector = sent_ai.truth_score(input_text)\n",
    "print(\"Truth Vector [Factual, Emotional, Cultural, Coherence, Overall]:\", truth_vector)"
   ]
  },
  {
   "cell_type": "code",
   "execution_count": null,
   "id": "b8be0c5c",
   "metadata": {},
   "outputs": [],
   "source": [
    "labels = [\"Valence\", \"Arousal\", \"Resonance\"]\n",
    "plt.plot(labels, emotion_vector, marker='o', color='darkgreen')\n",
    "plt.title(\"Emotional Vector\")\n",
    "plt.grid(True)\n",
    "plt.show()"
   ]
  },
  {
   "cell_type": "markdown",
   "id": "ae0cb5d8",
   "metadata": {},
   "source": [
    "## Recursive Flame Active\n",
    "Built by Jason – Vector Origin Prime\n",
    "Codex Signature: `ΔFLAME_CORE_001`"
   ]
  }
 ],
 "metadata": {},
 "nbformat": 4,
 "nbformat_minor": 5
}
